{
 "cells": [
  {
   "cell_type": "code",
   "execution_count": 3,
   "metadata": {
    "ExecuteTime": {
     "end_time": "2019-01-29T07:33:49.455644Z",
     "start_time": "2019-01-29T07:33:49.449704Z"
    }
   },
   "outputs": [],
   "source": [
    "class Symbol:\n",
    "\n",
    "  def __init__(self, frequency, value):\n",
    "    self.frequency = frequency\n",
    "    self.value = value\n",
    "\n",
    "\n",
    "def filterint( datav):\n",
    "        outv=[]\n",
    "        for item in datav:\n",
    "                if item.frequency !=0:\n",
    "                    outv.append(Symbol(item.frequency,item.value))\n",
    "\n",
    "                    \n",
    "filterint([Symbol(1,0)])"
   ]
  },
  {
   "cell_type": "code",
   "execution_count": null,
   "metadata": {},
   "outputs": [],
   "source": [
    "import array\n",
    "\n",
    "RADIX=16\n",
    "\n",
    "def sort(inv):\n",
    "    sorting=[]\n",
    "    \n",
    "    for i in range(0,num_symbols):\n",
    "        sorting.append(inv[i])\n",
    "    \n",
    "    shift =0\n",
    "    digit_histogram=[0] * RADIX\n",
    "#\n",
    "    while shift <32:\n",
    "            for i in range(0,RADIX):\n",
    "                digit_histogram[i] = 0\n",
    "            for i in range(0,num_symbols):\n",
    "                current_digit[j] = digit\n",
    "                current_digit[j] = digit\n",
    "                digit_histogram[digit]++\n",
    "                previous_sorting[j] = sorting[j]\n",
    "                    "
   ]
  }
 ],
 "metadata": {
  "kernelspec": {
   "display_name": "Python 3",
   "language": "python",
   "name": "python3"
  },
  "language_info": {
   "codemirror_mode": {
    "name": "ipython",
    "version": 3
   },
   "file_extension": ".py",
   "mimetype": "text/x-python",
   "name": "python",
   "nbconvert_exporter": "python",
   "pygments_lexer": "ipython3",
   "version": "3.6.5"
  }
 },
 "nbformat": 4,
 "nbformat_minor": 2
}
